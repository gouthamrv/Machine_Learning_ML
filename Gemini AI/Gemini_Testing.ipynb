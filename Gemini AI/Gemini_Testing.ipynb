{
 "cells": [
  {
   "cell_type": "code",
   "execution_count": null,
   "id": "f8dfd2c8",
   "metadata": {},
   "outputs": [],
   "source": [
    "import os\n",
    "os.environ['GEMINI_API_KEY'] = ''"
   ]
  },
  {
   "cell_type": "code",
   "execution_count": null,
   "id": "b819130a",
   "metadata": {},
   "outputs": [
    {
     "name": "stdout",
     "output_type": "stream",
     "text": [
      "Note: you may need to restart the kernel to use updated packages.\n"
     ]
    }
   ],
   "source": [
    "#!pip install -q -U google-generativeai"
   ]
  },
  {
   "cell_type": "code",
   "execution_count": 13,
   "id": "55544aee",
   "metadata": {},
   "outputs": [
    {
     "name": "stdout",
     "output_type": "stream",
     "text": [
      "Artificial intelligence (AI) is a broad field encompassing the theory and development of computer systems able to perform tasks that normally require human intelligence.  These tasks include things like:\n",
      "\n",
      "* **Learning:** Acquiring information and rules for using the information.\n",
      "* **Reasoning:** Using rules to reach approximate or definite conclusions.\n",
      "* **Problem-solving:** Finding solutions to complex situations.\n",
      "* **Perception:** Interpreting sensory information like images, sound, and text.\n",
      "* **Language understanding:** Processing and understanding human language.\n",
      "\n",
      "AI systems achieve these tasks through various techniques, broadly categorized as:\n",
      "\n",
      "* **Narrow or Weak AI:** Designed for a specific task, like playing chess or recommending products.  This is the most common type of AI today.  Examples include Siri, Alexa, and spam filters.  They excel at their specific tasks but lack general intelligence.\n",
      "\n",
      "* **General or Strong AI:** Hypothetical AI with human-level intelligence and the ability to perform any intellectual task that a human being can. This type of AI does not yet exist.\n",
      "\n",
      "* **Super AI:** Hypothetical AI that surpasses human intelligence in all aspects. This is also purely theoretical.\n",
      "\n",
      "**How AI works:**  AI systems often rely on:\n",
      "\n",
      "* **Machine Learning (ML):**  Algorithms that allow computers to learn from data without explicit programming.  Instead of being explicitly programmed with rules, they identify patterns and relationships in data to make predictions or decisions.  There are many types of ML, including deep learning.\n",
      "\n",
      "* **Deep Learning (DL):** A subset of ML that uses artificial neural networks with multiple layers (hence \"deep\") to analyze data.  DL is particularly effective at processing unstructured data like images and text.\n",
      "\n",
      "* **Natural Language Processing (NLP):**  Focuses on enabling computers to understand, interpret, and generate human language.  This is crucial for chatbots, language translation, and sentiment analysis.\n",
      "\n",
      "* **Computer Vision:**  Enables computers to \"see\" and interpret images and videos, similar to human vision.  This is used in self-driving cars, medical image analysis, and facial recognition.\n",
      "\n",
      "**Applications of AI:** AI is rapidly transforming various industries, including:\n",
      "\n",
      "* **Healthcare:** Disease diagnosis, drug discovery, personalized medicine.\n",
      "* **Finance:** Fraud detection, algorithmic trading, risk management.\n",
      "* **Transportation:** Self-driving cars, traffic optimization.\n",
      "* **Retail:** Personalized recommendations, customer service chatbots.\n",
      "* **Manufacturing:** Predictive maintenance, quality control.\n",
      "\n",
      "\n",
      "It's important to note that AI is not a single technology but rather a collection of techniques and approaches.  The field is constantly evolving, with new advancements and applications emerging regularly.  While offering immense potential benefits, AI also raises ethical concerns that need careful consideration.\n",
      "\n"
     ]
    }
   ],
   "source": [
    "import google.generativeai as genai\n",
    "genai.configure(api_key=os.environ['GEMINI_API_KEY'])\n",
    "model = genai.GenerativeModel(\"gemini-1.5-flash\")\n",
    "response = model.generate_content(\"Explain AI..\")\n",
    "print(response.text)"
   ]
  },
  {
   "cell_type": "code",
   "execution_count": 10,
   "id": "81ee0d35",
   "metadata": {},
   "outputs": [],
   "source": [
    "model = genai.GenerativeModel(\"gemini-1.5-flash\")"
   ]
  },
  {
   "cell_type": "code",
   "execution_count": null,
   "id": "8a6e000e",
   "metadata": {},
   "outputs": [],
   "source": []
  }
 ],
 "metadata": {
  "kernelspec": {
   "display_name": "base",
   "language": "python",
   "name": "python3"
  },
  "language_info": {
   "codemirror_mode": {
    "name": "ipython",
    "version": 3
   },
   "file_extension": ".py",
   "mimetype": "text/x-python",
   "name": "python",
   "nbconvert_exporter": "python",
   "pygments_lexer": "ipython3",
   "version": "3.13.5"
  }
 },
 "nbformat": 4,
 "nbformat_minor": 5
}
